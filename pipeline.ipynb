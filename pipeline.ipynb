{
 "cells": [
  {
   "cell_type": "code",
   "execution_count": null,
   "id": "c5c8f814",
   "metadata": {},
   "outputs": [],
   "source": [
    "class Chunk_timestamps:\n",
    "    def __init__(self,\n",
    "                 line = 0,\n",
    "                 chunk=None,\n",
    "                 start_time=None,\n",
    "                 end_time=None):\n",
    "        self.line = line\n",
    "        self.chunk = chunk\n",
    "        self.start_time = start_time\n",
    "        self.end_time = end_time\n",
    "\n",
    "    def getstamps(self):\n",
    "        return {\n",
    "                \"end_time\": self.end_time,\n",
    "                \"line\": self.line,\n",
    "                \"text\": self.chunk,\n",
    "                \"start_time\": self.start_time\n",
    "            }"
   ]
  },
  {
   "cell_type": "code",
   "execution_count": null,
   "id": "1a47c2f3",
   "metadata": {},
   "outputs": [],
   "source": [
    "def seconds_to_srt_time(seconds):\n",
    "    hours = int(seconds // 3600)\n",
    "    minutes = int((seconds % 3600) // 60)\n",
    "    secs = int(seconds % 60)\n",
    "    millis = int(round((seconds - int(seconds)) * 1000))\n",
    "    return f\"{hours:02}:{minutes:02}:{secs:02}.{millis:03}\""
   ]
  },
  {
   "cell_type": "code",
   "execution_count": 65,
   "id": "3afd4935",
   "metadata": {},
   "outputs": [],
   "source": [
    "# api 请求示例\n",
    "import os\n",
    "import requests\n",
    "\n",
    "# 视频地址\n",
    "video = \"D:\\\\desktop\\\\1\\\\work\\\\ai4c\\\\chunking\\\\test\\\\2c70772223849f936d289ff0366cb194.mp4\"\n",
    "# 请求地址\n",
    "url = \"http://127.0.0.1:9977/api\"\n",
    "# 请求参数  file:音视频文件，language：语言代码，model：模型，response_format:text|json|srt\n",
    "# 返回 code==0 成功，其他失败，msg==成功为ok，其他失败原因，data=识别后返回文字\n",
    "files = {\"file\": open(video, \"rb\")}\n",
    "data={\"language\":\"zh\",\"model\":\"tiny\",\"response_format\":\"json\",\"word_timestamps\":\"true\"}\n",
    "response = requests.request(\"POST\", url, timeout=600, data=data,files=files)\n",
    "\n",
    "original_chunks = []\n",
    "for i in response.json()[\"data\"]:\n",
    "        original_chunks.append({'text':i[\"text\"].strip(\"。\") + '。'})"
   ]
  },
  {
   "cell_type": "code",
   "execution_count": 66,
   "id": "33304519",
   "metadata": {},
   "outputs": [
    {
     "name": "stderr",
     "output_type": "stream",
     "text": [
      "2025-07-03 11:52:36,241 - modelscope - INFO - initiate model from modelscope/Seqmodel\n",
      "2025-07-03 11:52:36,244 - modelscope - INFO - initiate model from location modelscope/Seqmodel.\n",
      "2025-07-03 11:52:36,250 - modelscope - INFO - initialize model from modelscope/Seqmodel\n",
      "2025-07-03 11:52:36,647 - modelscope - WARNING - No preprocessor field found in cfg.\n",
      "2025-07-03 11:52:36,648 - modelscope - WARNING - No val key and type key found in preprocessor domain of configuration.json file.\n",
      "2025-07-03 11:52:36,648 - modelscope - WARNING - Cannot find available config to build preprocessor at mode inference, current config: {'model_dir': 'modelscope/Seqmodel'}. trying to build by task and model information.\n",
      "2025-07-03 11:52:36,650 - modelscope - INFO - No preprocessor key ('bert-for-document-segmentation', 'document-segmentation') found in PREPROCESSOR_MAP, skip building preprocessor. If the pipeline runs normally, please ignore this log.\n",
      "2025-07-03 11:52:36,654 - modelscope - INFO - cuda is not available, using cpu instead.\n"
     ]
    }
   ],
   "source": [
    "from modelscope.utils.constant import Tasks\n",
    "from modelscope.outputs import OutputKeys\n",
    "from modelscope.pipelines import pipeline\n",
    "\n",
    "\n",
    "document = \"\"\n",
    "for i in original_chunks:\n",
    "    document += i[\"text\"]\n",
    "\n",
    "p = pipeline(\n",
    "    task=Tasks.document_segmentation,\n",
    "    model='modelscope/Seqmodel', model_revision='master')\n",
    "\n",
    "result = p(document)"
   ]
  },
  {
   "cell_type": "code",
   "execution_count": null,
   "id": "e25faf75",
   "metadata": {},
   "outputs": [],
   "source": [
    "chunks = [chunk.strip(\"\\t\") for chunk in result[OutputKeys.TEXT].split(\"\\n\") if len(chunk.strip(\"\\t\")) > 0]\n",
    "\n",
    "chunk_timestamps = []\n",
    "line = 0\n",
    "for chunk in chunks:\n",
    "    newchunk = Chunk_timestamps(chunk=chunk, line=line)\n",
    "    found1 = False\n",
    "    found2 = False\n",
    "    for entry in response.json()[\"data\"]:\n",
    "        if chunk.split(\"。\")[0] in entry[\"text\"]:\n",
    "            for word in entry[\"words\"]:\n",
    "                if chunk.split(\"。\")[0][0] in word[\"word\"]:\n",
    "                    newchunk.start_time = seconds_to_srt_time(word[\"start\"])\n",
    "                    found1 = True\n",
    "        if chunk.split(\"。\")[-2] in entry[\"text\"]:\n",
    "            for word in entry[\"words\"]:\n",
    "                if chunk.split(\"。\")[-2][-1] in word[\"word\"]:\n",
    "                    newchunk.end_time = seconds_to_srt_time(word[\"end\"])\n",
    "                    found2 = True\n",
    "        if found1 and found2:\n",
    "            found1 = False\n",
    "            found1 = False\n",
    "            break\n",
    "    if not found1 and not found2:\n",
    "        chunk_timestamps.append({\n",
    "            \"end_time\": None,\n",
    "            \"text\": chunk,\n",
    "            \"start_time\": None\n",
    "        })\n",
    "    chunk_timestamps.append(newchunk)\n",
    "    line += 1"
   ]
  },
  {
   "cell_type": "code",
   "execution_count": null,
   "id": "ad35129e",
   "metadata": {},
   "outputs": [],
   "source": [
    "import subprocess\n",
    "cnt = 0\n",
    "for chunk_timestamp in chunk_timestamps:\n",
    "    info = chunk_timestamp.getstamps()\n",
    "    start_time = info[\"start_time\"]\n",
    "    end_time = info[\"end_time\"]\n",
    "    output = \"test/result\" + str(cnt) + \".mp4\"\n",
    "    ffmpeg_command1 = \"D:/desktop/1/work/ai4c/stt/ffmpeg -y -i \" +  video\n",
    "    ffmpeg_command2= \" -ss \" + start_time\n",
    "    ffmpeg_command3 = \" -to \" + end_time + \" -c copy\"\n",
    "    ffmpeg_command4 = \" -vcodec libx264 -acodec libmp3lame \" + output\n",
    "    ffmpeg_command = ffmpeg_command1 + ffmpeg_command2 + ffmpeg_command3 + ffmpeg_command4\n",
    "    print(ffmpeg_command)\n",
    "    p = subprocess.Popen(ffmpeg_command, shell=True, stdout=subprocess.PIPE, stderr=subprocess.PIPE)\n",
    "    out, err = p.communicate()\n",
    "    print(out.decode(), err.decode())\n",
    "    cnt += 1"
   ]
  }
 ],
 "metadata": {
  "kernelspec": {
   "display_name": "stt",
   "language": "python",
   "name": "python3"
  },
  "language_info": {
   "codemirror_mode": {
    "name": "ipython",
    "version": 3
   },
   "file_extension": ".py",
   "mimetype": "text/x-python",
   "name": "python",
   "nbconvert_exporter": "python",
   "pygments_lexer": "ipython3",
   "version": "3.10.18"
  }
 },
 "nbformat": 4,
 "nbformat_minor": 5
}
